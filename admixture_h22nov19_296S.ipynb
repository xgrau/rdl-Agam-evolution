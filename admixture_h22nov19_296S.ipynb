{
 "cells": [
  {
   "cell_type": "markdown",
   "metadata": {},
   "source": [
    "# Admixture in 2L\n",
    "\n",
    "## Input\n",
    "\n",
    "Input files:"
   ]
  },
  {
   "cell_type": "code",
   "execution_count": 1,
   "metadata": {},
   "outputs": [],
   "source": [
    "# output\n",
    "outdir   = \"results_admixture\"\n",
    "outcode  = \"rdl_admix_296S\"\n",
    "\n",
    "# gene of interest\n",
    "chrom     = \"2L\"\n",
    "loc_start = 25363652 # start gene\n",
    "loc_end   = 25434556 # end gene\n",
    "\n",
    "# inversion 2La\n",
    "inv_start = 20524058 # interval 20524058 - 20528089\n",
    "inv_end   = 42165532 # interval 42165182 - 42165532\n",
    "\n",
    "# input data phase2\n",
    "popc          = \"population\" \n",
    "p2_metasam_fn = \"data/samples_p2.meta.txt\"\n",
    "p2_callset_fn = \"/home/xavi/Documents/VariationAg1k/data/phase2.AR1/haplotypes/zarr2/ag1000g.phase2.ar1.samples/\"      #### EDIT THIS \n",
    "p2_accessi_fn = \"/home/xavi/Documents/VariationAg1k/data/phase2.AR1/accessibility/accessibility.h5\"                    #### EDIT THIS \n",
    "p2_popc       = popc\n",
    "p2_popl       = [\"BFcol\"]\n",
    "\n",
    "# outgroup populations\n",
    "ou_species    = [\"arab\",\"meru\",\"epir\",\"chri\"]\n",
    "ou_callset_fl = [\"/home/xavi/dades/Variation/phase1.AR3_Fontaine_AltSps/haplotypes/arab_ref_hc_vqsr_cnvrt_sort.zarr/\", #### EDIT THIS \n",
    "                 \"/home/xavi/dades/Variation/phase1.AR3_Fontaine_AltSps/haplotypes/meru_hc_vqsr_cnvrt_sort.zarr/\",     #### EDIT THIS \n",
    "                 \"/home/xavi/dades/Variation/phase1.AR3_Fontaine_AltSps/genotypes/epir_fake_cnvrt_sort.zarr/\",         #### EDIT THIS \n",
    "                 \"/home/xavi/dades/Variation/phase1.AR3_Fontaine_AltSps/genotypes/chri_fake_cnvrt_sort.zarr/\"]         #### EDIT THIS \n",
    "ou_metasam_fl = [\"data/samples.metaara.txt\",\n",
    "                 \"data/samples.metamer.txt\",\n",
    "                 \"data/samples.metaepi.txt\",\n",
    "                 \"data/samples.metachr.txt\"]\n",
    "ou_popc       = popc\n",
    "\n",
    "\n",
    "# accessibility phase2\n",
    "accessi_fn = \"/home/xavi/Documents/VariationAg1k/data/phase2.AR1/accessibility/accessibility.h5\" #### EDIT THIS \n",
    "# gff\n",
    "gffann_fn  = \"data/Anopheles-gambiae-PEST_BASEFEATURES_AgamP4.9.gff3\""
   ]
  },
  {
   "cell_type": "markdown",
   "metadata": {},
   "source": [
    "Libraries:"
   ]
  },
  {
   "cell_type": "code",
   "execution_count": 2,
   "metadata": {},
   "outputs": [],
   "source": [
    "import os\n",
    "import numpy as np\n",
    "import matplotlib as mpl\n",
    "import matplotlib.pyplot as plt\n",
    "from matplotlib import cm\n",
    "import seaborn as sns\n",
    "import bcolz\n",
    "import scipy\n",
    "from matplotlib.gridspec import GridSpec\n",
    "from matplotlib.backends.backend_pdf import PdfPages\n",
    "import zarr\n",
    "import pandas as pd\n",
    "import allel\n",
    "import h5py\n",
    "import itertools"
   ]
  },
  {
   "cell_type": "markdown",
   "metadata": {},
   "source": [
    "Functions:"
   ]
  },
  {
   "cell_type": "code",
   "execution_count": 3,
   "metadata": {},
   "outputs": [],
   "source": [
    "# load plot settings\n",
    "sns.set(context=\"notebook\",style=\"ticks\",\n",
    "        font_scale=1.3,rc={\"lines.linewidth\": 1},\n",
    "        font=\"Arial\",palette=\"bright\")\n",
    "\n",
    "def remove_indels(gt, ref, alt, pos):\n",
    "    \"\"\"This removes indels from the Fontaine data\n",
    "    https://github.com/SeanTomlinson30/phd-ops/blob/master/218-arabiensis-aim/20181127-fontaine-data-munging.ipynb\"\"\"\n",
    "    # Utility\n",
    "    mylen = np.vectorize(len)\n",
    "    # ALT\n",
    "    count_alt = mylen(alt)\n",
    "    alt_count = np.sum(count_alt, axis=1)\n",
    "    # This array returns true at each position if the alt is fixed for the reference or has only one alternate allele.\n",
    "    is_ref_or_snp = alt_count <= 1\n",
    "    # REF Let's pull out the positions where it's a single base\n",
    "    length_of_ref = mylen(ref) <= 1 \n",
    "    # return the logical and of these 2 arrays this removes the second instance of a duplicated position\n",
    "    is_not_dup = np.concatenate([[True], np.diff(pos) > 0])\n",
    "    # this is the final bool array to filter the data with, and results in positions that are not multiallelic not containing indel and not containing duplicated positions\n",
    "    bool_mask = length_of_ref & is_ref_or_snp & is_not_dup\n",
    "    return(bool_mask)\n",
    "    print('DONE')"
   ]
  },
  {
   "cell_type": "markdown",
   "metadata": {},
   "source": [
    "## Load variants\n",
    "\n",
    "### Phase2\n",
    "\n",
    "Population and sample structure:"
   ]
  },
  {
   "cell_type": "code",
   "execution_count": 4,
   "metadata": {},
   "outputs": [
    {
     "name": "stdout",
     "output_type": "stream",
     "text": [
      "Data:\n",
      "* Samples     =  75\n",
      "* Populations =  {'BFcol'}\n",
      "population\n",
      "BFcol    75\n",
      "dtype: int64\n"
     ]
    }
   ],
   "source": [
    "# load samples list with sample code, groupings, locations etc.\n",
    "p2_samples_df   = pd.read_csv(p2_metasam_fn, sep='\\t')\n",
    "p2_samples_bool = (p2_samples_df[p2_popc].isin(p2_popl).values)\n",
    "p2_samples      = p2_samples_df[p2_samples_bool]\n",
    "p2_samples.reset_index(drop=True, inplace=True)\n",
    "\n",
    "# indexed dictionary of populations\n",
    "p2_popdict = dict()\n",
    "for popi in p2_popl: \n",
    "    p2_popdict[popi]  = p2_samples[p2_samples[p2_popc] == popi].index.tolist()\n",
    "\n",
    "# add an extra population composed of all other locations\n",
    "p2_popdict[\"all\"] = []\n",
    "for popi in p2_popl:\n",
    "    p2_popdict[\"all\"] = p2_popdict[\"all\"] + p2_popdict[popi]\n",
    "\n",
    "\n",
    "# report\n",
    "print(\"Data:\")\n",
    "print(\"* Samples     = \", p2_samples.shape[0])\n",
    "print(\"* Populations = \", set(p2_samples[p2_popc]))\n",
    "print(p2_samples.groupby((\"population\")).size())"
   ]
  },
  {
   "cell_type": "markdown",
   "metadata": {},
   "source": [
    "Variants and genotypes:"
   ]
  },
  {
   "cell_type": "code",
   "execution_count": 5,
   "metadata": {},
   "outputs": [
    {
     "name": "stdout",
     "output_type": "stream",
     "text": [
      "Variants...\n",
      "(8906423,)\n",
      "Genotypes...\n",
      "(8906423, 75, 2)\n"
     ]
    }
   ],
   "source": [
    "# declare objects with variant data\n",
    "p2_callset   = zarr.open(p2_callset_fn)\n",
    "# variants of genotypes\n",
    "print(\"Variants...\")\n",
    "p2_callset_var = p2_callset[chrom][\"variants\"]\n",
    "p2_genvars = allel.VariantChunkedTable(p2_callset_var,names=[\"POS\",\"REF\",\"ALT\"],index=\"POS\") \n",
    "print(p2_genvars.shape)\n",
    "# genotype data\n",
    "print(\"Genotypes...\")\n",
    "p2_callset_gen = p2_callset[chrom][\"calldata\"][\"genotype\"]\n",
    "p2_genotyp     = allel.GenotypeChunkedArray(p2_callset_gen) \n",
    "p2_genotyp     = p2_genotyp.subset(sel1=p2_samples_bool)\n",
    "print(p2_genotyp.shape)"
   ]
  },
  {
   "cell_type": "markdown",
   "metadata": {},
   "source": [
    "#### Outgroups\n",
    "\n",
    "Loads one outgroup, removes indels (duplicated variant positions) and subsets phase2 to include variants present in this outgroup. Then, loads outgroup genotypes and subsets them to remove indels and fit phase2. Then, loads the second outgroup and performs the same task. Thus, at each iteration, less and less variants remain (hopefully not too many are lost; worst offenders are `chri` and `epir`)."
   ]
  },
  {
   "cell_type": "code",
   "execution_count": 6,
   "metadata": {},
   "outputs": [
    {
     "name": "stdout",
     "output_type": "stream",
     "text": [
      "# p2 genotypes remaining: 8906423\n",
      "Variants arab...\n",
      "Remove indel arab...\n",
      "Subset phase2 to arab...\n",
      "(8476972, 75, 2)\n",
      "Genotypes arab...\n",
      "Subset arab to phase2...\n",
      "(8476972, 12, 2)\n",
      "Merge arab into phase2...\n",
      "(8476972, 87, 2)\n",
      "# p2 genotypes remaining: 8476972\n",
      "Variants meru...\n",
      "Remove indel meru...\n",
      "Subset phase2 to meru...\n",
      "(8259806, 87, 2)\n",
      "Genotypes meru...\n",
      "Subset meru to phase2...\n",
      "(8259806, 10, 2)\n",
      "Merge meru into phase2...\n",
      "(8259806, 97, 2)\n",
      "# p2 genotypes remaining: 8259806\n",
      "Variants epir...\n",
      "Remove indel epir...\n",
      "Subset phase2 to epir...\n",
      "(6720330, 97, 2)\n",
      "Genotypes epir...\n",
      "Subset epir to phase2...\n",
      "(6720330, 1, 2)\n",
      "Merge epir into phase2...\n",
      "(6720330, 98, 2)\n",
      "# p2 genotypes remaining: 6720330\n",
      "Variants chri...\n",
      "Remove indel chri...\n",
      "Subset phase2 to chri...\n",
      "(5716520, 98, 2)\n",
      "Genotypes chri...\n",
      "Subset chri to phase2...\n",
      "(5716520, 1, 2)\n",
      "Merge chri into phase2...\n",
      "(5716520, 99, 2)\n"
     ]
    }
   ],
   "source": [
    "oc_genotyp = p2_genotyp\n",
    "oc_genvars = p2_genvars\n",
    "\n",
    "for outn,outi in enumerate(ou_species):\n",
    "    \n",
    "    print(\"# p2 genotypes remaining: %i\" % oc_genotyp.shape[0])\n",
    "    \n",
    "    # Variants\n",
    "    print(\"Variants %s...\" % outi)\n",
    "    ou_callset = zarr.open(ou_callset_fl[outn])\n",
    "    ou_genvars = allel.VariantChunkedTable(ou_callset[chrom][\"variants\"],names=[\"POS\",\"REF\",\"ALT\"],index=\"POS\")\n",
    "\n",
    "    # retain positions in inversion & remove indels\n",
    "    print(\"Remove indel %s...\" % outi)\n",
    "    pos_noindel = remove_indels(gt = ou_callset[chrom][\"calldata\"][\"GT\"], ref = ou_callset[chrom][\"variants\"][\"REF\"], alt = ou_callset[chrom][\"variants\"][\"ALT\"], pos = ou_genvars[\"POS\"])\n",
    "    ou_genvars  = ou_genvars[:][pos_noindel]\n",
    "    \n",
    "    # subset phase2 to fit phase1\n",
    "    print(\"Subset phase2 to %s...\" % outi)\n",
    "    is_p2_in_ou = np.isin(oc_genvars[\"POS\"],test_elements=ou_genvars[\"POS\"])\n",
    "    oc_genotyp  = oc_genotyp.compress((is_p2_in_ou))\n",
    "    oc_genvars  = oc_genvars.compress((is_p2_in_ou))\n",
    "    print(oc_genotyp.shape)\n",
    "    \n",
    "    # genotype data\n",
    "    print(\"Genotypes %s...\" % outi)\n",
    "    ou_genotyp     = allel.GenotypeChunkedArray(ou_callset[chrom][\"calldata\"][\"GT\"]).compress(pos_noindel)\n",
    "    \n",
    "    # retain positions available in phase2\n",
    "    print(\"Subset %s to phase2...\" % outi)\n",
    "    is_ou_in_p2 = np.isin(ou_genvars[\"POS\"],test_elements=oc_genvars[\"POS\"])\n",
    "    ou_genotyp  = ou_genotyp.compress(is_ou_in_p2)\n",
    "    print(ou_genotyp.shape)\n",
    "\n",
    "    # add new genotypes to phase2\n",
    "    print(\"Merge %s into phase2...\" % outi)\n",
    "    oc_genotyp = oc_genotyp.concatenate(ou_genotyp,axis=1)\n",
    "    print(oc_genotyp.shape)"
   ]
  },
  {
   "cell_type": "markdown",
   "metadata": {},
   "source": [
    "### Merge sample data\n",
    "\n",
    "Merge metadata files, with sample codes, species and populations:"
   ]
  },
  {
   "cell_type": "code",
   "execution_count": 7,
   "metadata": {},
   "outputs": [
    {
     "name": "stdout",
     "output_type": "stream",
     "text": [
      "Cast sample metadata...\n",
      "(99, 3)\n"
     ]
    }
   ],
   "source": [
    "print(\"Cast sample metadata...\")\n",
    "oc_samples = pd.DataFrame(data={\n",
    "    \"ox_code\"    :  p2_samples[\"ox_code\"].values.tolist() + \n",
    "                    list(itertools.chain.from_iterable([ pd.read_csv(ou_metasam_fl[n], sep='\\t')[\"ox_code\"].values.tolist()  for n,i in enumerate(ou_species) ])),\n",
    "    \"species\"    :  p2_samples[\"m_s\"].values.astype(str).tolist() + \n",
    "                    list(itertools.chain.from_iterable([ pd.read_csv(ou_metasam_fl[n], sep='\\t')[\"species\"].values.tolist()  for n,i in enumerate(ou_species) ])),\n",
    "    \"population\" :  p2_samples[p2_popc].values.tolist()   + \n",
    "                    list(itertools.chain.from_iterable([ pd.read_csv(ou_metasam_fl[n], sep='\\t')[ou_popc].values.tolist()  for n,i in enumerate(ou_species) ]))\n",
    "})\n",
    "print(oc_samples.shape)\n",
    "\n",
    "# rename species...\n",
    "oc_samples[\"species\"].values[oc_samples[\"species\"].values == \"M\"]   = \"col\"\n",
    "oc_samples[\"species\"].values[oc_samples[\"species\"].values == \"S\"]   = \"gam\"\n",
    "oc_samples[\"species\"].values[oc_samples[\"species\"].values == \"M/S\"] = \"gamcol\"\n",
    "oc_samples[\"species\"].values[oc_samples[\"species\"].values == \"M-S\"] = \"gamcol\"\n",
    "oc_samples[\"species\"].values[oc_samples[\"species\"].values == \"nan\"] = \"gamcol\"\n",
    "\n",
    "# obtain full population & species list\n",
    "oc_popl = np.unique(oc_samples[\"population\"].values)\n",
    "oc_spsl = np.unique(oc_samples[\"species\"].values)"
   ]
  },
  {
   "cell_type": "markdown",
   "metadata": {},
   "source": [
    "Dictionaries of populations and species:"
   ]
  },
  {
   "cell_type": "code",
   "execution_count": 8,
   "metadata": {},
   "outputs": [
    {
     "name": "stdout",
     "output_type": "stream",
     "text": [
      "Population dict...\n",
      "Species dict...\n"
     ]
    }
   ],
   "source": [
    "print(\"Population dict...\")\n",
    "oc_popdict = dict()\n",
    "for popi in oc_popl: \n",
    "    oc_popdict[popi]  = oc_samples[oc_samples[\"population\"] == popi].index.tolist()\n",
    "    \n",
    "oc_popdict[\"all\"] = []\n",
    "for popi in oc_popl:\n",
    "    oc_popdict[\"all\"] = oc_popdict[\"all\"] + oc_popdict[popi]\n",
    "\n",
    "print(\"Species dict...\")\n",
    "oc_spsdict = dict()\n",
    "for spsi in oc_spsl: \n",
    "    oc_spsdict[spsi]  = oc_samples[oc_samples[\"species\"] == spsi].index.tolist()"
   ]
  },
  {
   "cell_type": "markdown",
   "metadata": {},
   "source": [
    "### Allele counts\n",
    "\n",
    "Using both dictionaries:"
   ]
  },
  {
   "cell_type": "code",
   "execution_count": 9,
   "metadata": {},
   "outputs": [
    {
     "name": "stdout",
     "output_type": "stream",
     "text": [
      "Genotypes to allele counts (population)...\n",
      "(5716520,)\n",
      "Genotypes to allele counts (species)...\n",
      "(5716520,)\n"
     ]
    }
   ],
   "source": [
    "print(\"Genotypes to allele counts (population)...\")\n",
    "oc_genalco_pop = oc_genotyp.count_alleles_subpops(subpops=oc_popdict)\n",
    "print(oc_genalco_pop.shape)\n",
    "\n",
    "print(\"Genotypes to allele counts (species)...\")\n",
    "oc_genalco_sps = oc_genotyp.count_alleles_subpops(subpops=oc_spsdict)\n",
    "print(oc_genalco_sps.shape)"
   ]
  },
  {
   "cell_type": "markdown",
   "metadata": {},
   "source": [
    "Define which variants to retain from phase2 (all other datasets will be recast to fit this):"
   ]
  },
  {
   "cell_type": "code",
   "execution_count": 10,
   "metadata": {},
   "outputs": [
    {
     "name": "stdout",
     "output_type": "stream",
     "text": [
      "Filters p2+ou...\n",
      "(2699125, 99, 2) / (5716520, 99, 2)\n"
     ]
    }
   ],
   "source": [
    "# Filters\n",
    "# subset data: segregating alleles, biallelic and no singletons\n",
    "print(\"Filters p2+ou...\")\n",
    "oc_is_seg      = oc_genalco_pop[\"all\"].is_segregating()[:] # segregating\n",
    "oc_is_nosing   = oc_genalco_pop[\"all\"][:,:2].min(axis=1)>1 # no singletons\n",
    "\n",
    "# subset phase2 to seg, nosing, biallelic & outgroup size\n",
    "oc_genotyp_seg     = oc_genotyp.compress((oc_is_seg & oc_is_nosing))\n",
    "oc_genvars_seg     = oc_genvars.compress((oc_is_seg & oc_is_nosing))\n",
    "oc_genalco_pop_seg = oc_genalco_pop.compress((oc_is_seg & oc_is_nosing))\n",
    "oc_genalco_sps_seg = oc_genalco_sps.compress((oc_is_seg & oc_is_nosing))\n",
    "\n",
    "# report\n",
    "print(oc_genotyp_seg.shape,\"/\", oc_genotyp.shape)"
   ]
  },
  {
   "cell_type": "markdown",
   "metadata": {},
   "source": [
    "### Other input\n",
    "\n",
    "Accessibility"
   ]
  },
  {
   "cell_type": "code",
   "execution_count": 11,
   "metadata": {
    "scrolled": false
   },
   "outputs": [],
   "source": [
    "accessi_df  = h5py.File(accessi_fn,mode=\"r\")\n",
    "accessi_arr = accessi_df[chrom][\"is_accessible\"][:]    "
   ]
  },
  {
   "cell_type": "markdown",
   "metadata": {},
   "source": [
    "Import GFF geneset:"
   ]
  },
  {
   "cell_type": "code",
   "execution_count": 12,
   "metadata": {
    "scrolled": false
   },
   "outputs": [
    {
     "name": "stderr",
     "output_type": "stream",
     "text": [
      "/home/xavi/miniconda3/lib/python3.7/site-packages/ipykernel_launcher.py:9: FutureWarning: from_items is deprecated. Please use DataFrame.from_dict(dict(items), ...) instead. DataFrame.from_dict(OrderedDict(items)) may be used to preserve the key order.\n",
      "  if __name__ == '__main__':\n"
     ]
    }
   ],
   "source": [
    "# import gff\n",
    "def geneset_gff(geneset):\n",
    "    items = []\n",
    "    for n in geneset.dtype.names:\n",
    "        v = geneset[n]\n",
    "        if v.dtype.kind == 'S':\n",
    "            v = v.astype('U')\n",
    "        items.append((n, v))\n",
    "    return pd.DataFrame.from_items(items)\n",
    "%run scripts_printtranscripts/allel_printtranscripts_24gen18.py\n",
    "\n",
    "geneset = allel.FeatureTable.from_gff3(gffann_fn,attributes=['ID', 'Parent'])\n",
    "geneset = geneset_gff(geneset)\n"
   ]
  },
  {
   "cell_type": "markdown",
   "metadata": {},
   "source": [
    "## Admixture analyses\n",
    "\n",
    "### Patterson $D$\n",
    "\n",
    "$D$ statistic or $ABBA-BABA$ test for introgression.\n",
    "\n",
    "* C is the donor/acceptor population that might have undergone gene flow with either A or B.\n",
    "* A and B are two pops of the same species and we want to see if there was introgression between C and either A or B\n",
    "* D is an unadmixed outgroup\n",
    "\n",
    "```\n",
    "A   B   C   D\n",
    "`---´   ¦   ¦\n",
    "  `-----´   ¦\n",
    "     `------´\n",
    "         ¦ \n",
    "```\n",
    "\n",
    "Interpretation:\n",
    "\n",
    "* If **`D~0`**, tree concordance\n",
    "* If **`D>0`**, flow between **A and C**\n",
    "* If **`D<0`**, flow between **B and C**"
   ]
  },
  {
   "cell_type": "markdown",
   "metadata": {},
   "source": [
    "Define parameters for windowed estimation of $D$:"
   ]
  },
  {
   "cell_type": "code",
   "execution_count": 13,
   "metadata": {},
   "outputs": [],
   "source": [
    "# window lengths for SNP blocks\n",
    "#block_len_snp = 5000\n",
    "#step_frac_snp = 0.2\n",
    "#step_perc_snp = int(step_frac_snp * 100)\n",
    "#step_len_snp  = int(block_len_snp * step_frac_snp)"
   ]
  },
  {
   "cell_type": "markdown",
   "metadata": {},
   "source": [
    "Function to loop through population combinations:"
   ]
  },
  {
   "cell_type": "code",
   "execution_count": 14,
   "metadata": {},
   "outputs": [],
   "source": [
    "def loop_D_statistic3(name, popA_list, popB_list, popC_list, popD_list, \n",
    "                     popA_ac, popB_ac, popC_ac, popD_ac, \n",
    "                     pos, block_len_snp, step_len_snp, cycle = \"C\", blen=100,\n",
    "                     color=[\"blue\",\"darkorange\",\"turquoise\",\"crimson\",\"magenta\",\"limegreen\",\"forestgreen\",\"slategray\",\"orchid\",\"darkblue\"]):\n",
    "    \n",
    "    windows_pos = allel.moving_statistic(pos, statistic=lambda v: v[0], size=block_len_snp,step=step_len_snp)\n",
    "\n",
    "    # calculate pvalues and focus in this region: duplicated region proper\n",
    "    is_locus = np.logical_and(pos > loc_start,pos < loc_end) # gene region\n",
    "    is_inv   = np.logical_and(pos > inv_start,pos < inv_end) # inversion region\n",
    "    \n",
    "    # loop\n",
    "    pdf = PdfPages(\"%s/%s.Dstat_%s.pdf\" % (outdir,outcode,name))\n",
    "        \n",
    "    colors = cm.rainbow(np.linspace(0, 1, len(popC_list)))\n",
    "\n",
    "    for dn,popD in enumerate(popD_list):\n",
    "\n",
    "        for bn,popB in enumerate(popB_list):\n",
    "\n",
    "            for an,popA in enumerate(popA_list):\n",
    "\n",
    "                print(\"(((%s,%s),X),%s) chr\" % (popA,popB,popD))\n",
    "\n",
    "                fig = plt.figure(figsize=(10,2))\n",
    "\n",
    "                # whole chromosome: frame\n",
    "                ax1 = plt.subplot(1, 2, 1)\n",
    "                sns.despine(ax=ax1,offset=10)\n",
    "                ax1.set_title(\"Chr %s (((%s,%s),X),%s)\" % (chrom,popA,popB,popD))\n",
    "                ax1.set_xlim(0,50)\n",
    "                ax1.set_ylim(-1,1)\n",
    "                ax1.set_xlabel(\"Mb\")\n",
    "                ax1.set_ylabel(\"D\")\n",
    "                plt.axhline(0, color='k',linestyle=\"--\",label=\"\")\n",
    "                plt.axvline(loc_start/1e6, color='red',linestyle=\":\",label=\"Rdl\")\n",
    "                plt.axvline(loc_end/1e6, color='red',linestyle=\":\",label=\"\")\n",
    "                plt.axvline(inv_start/1e6, color='orange',linestyle=\":\",label=\"inversion\")\n",
    "                plt.axvline(inv_end/1e6, color='orange',linestyle=\":\",label=\"\")\n",
    "\n",
    "                ax2 = plt.subplot(1, 4, 3)\n",
    "                sns.despine(ax=ax2,offset=10)\n",
    "                ax2.set_xlim(loc_start/1e6-1,loc_end/1e6+1)\n",
    "                ax2.set_ylim(-1,1)\n",
    "                ax2.set_xlabel(\"Mb\")\n",
    "                ax2.set_ylabel(\"D\")\n",
    "                plt.axhline(0, color='k',linestyle=\"--\",label=\"\")\n",
    "                plt.axvline(loc_start/1e6, color='red',linestyle=\":\",label=\"Rdl\")\n",
    "                plt.axvline(loc_end/1e6, color='red',linestyle=\":\",label=\"\")\n",
    "                plt.axvline(inv_start/1e6, color='orange',linestyle=\":\",label=\"inversion\")\n",
    "                plt.axvline(inv_end/1e6, color='orange',linestyle=\":\",label=\"\")\n",
    "\n",
    "                for cn,popC in enumerate(popC_list):\n",
    "\n",
    "                    if popA != popB:\n",
    "\n",
    "                        # block-wise patterson D (normalised)\n",
    "                        admix_pd_n_win = allel.moving_patterson_d( \n",
    "                            aca=popA_ac[popA][:,0:2],\n",
    "                            acb=popB_ac[popB][:,0:2],\n",
    "                            acc=popC_ac[popC][:,0:2],\n",
    "                            acd=popD_ac[popD][:,0:2],\n",
    "                            size=block_len_snp,step=step_len_snp)\n",
    "\n",
    "                        # whole chromosome: plot\n",
    "                        plt.subplot(1, 2, 1)\n",
    "                        plt.step(windows_pos/1e6, admix_pd_n_win, color=colors[cn])\n",
    "\n",
    "                        # estimated D in locus with pval\n",
    "                        admix_pd_av_indup = allel.average_patterson_d(\n",
    "                            aca=popA_ac[popA][:,0:2][is_locus],\n",
    "                            acb=popB_ac[popB][:,0:2][is_locus],\n",
    "                            acc=popC_ac[popC][:,0:2][is_locus],\n",
    "                            acd=popD_ac[popD][:,0:2][is_locus],\n",
    "                            blen=blen)\n",
    "                        # convert Z-score (num of SD from 0) to pval (two-sided)\n",
    "                        admix_pd_av_indup_pval = scipy.stats.norm.sf(abs(admix_pd_av_indup[2]))*2 \n",
    "\n",
    "                        # zoomed region: plot\n",
    "                        plt.subplot(1, 4, 3)\n",
    "                        plt.step(windows_pos/1e6, admix_pd_n_win, \n",
    "                                 color=colors[cn], where=\"post\",\n",
    "                                 label=\"%s\\nD = %.3f +/- %.3f | Z = %.3f | p = %.3E\" % \n",
    "                                     (popC,admix_pd_av_indup[0],admix_pd_av_indup[1],admix_pd_av_indup[2],admix_pd_av_indup_pval))\n",
    "\n",
    "                plt.axhline(0, color='k',linestyle=\"--\",label=\"\")\n",
    "                ax2.legend(loc='center left', bbox_to_anchor=(1.1, 0.5))\n",
    "\n",
    "                # save pdf\n",
    "                pdf.savefig(fig,bbox_inches='tight')\n",
    "\n",
    "    pdf.close()"
   ]
  },
  {
   "cell_type": "markdown",
   "metadata": {},
   "source": [
    "### Results admixture Patterson's $D$\n",
    "\n",
    "#### Introgression & inversion karyotypes\n",
    "\n",
    "The 2La inversion blocks recombination between non-concordant karyotypes, and makes genotype frequencies within the inversion to be more similar between specimens sharing the inversion than between specimens from the same species (col, gam, ara...). Thus, introgression must be analysed separately for sub-populations with (2La) and without (2L+a) the inversion.\n",
    "\n",
    "First, let's look at **karyotypes of the inversion per population** (produced in notebook `karyotype_2La_phase2.ipynb`)"
   ]
  },
  {
   "cell_type": "code",
   "execution_count": 15,
   "metadata": {},
   "outputs": [
    {
     "name": "stdout",
     "output_type": "stream",
     "text": [
      "karyotypes 2La phase2: (99, 4)\n"
     ]
    },
    {
     "data": {
      "text/html": [
       "<div>\n",
       "<style scoped>\n",
       "    .dataframe tbody tr th:only-of-type {\n",
       "        vertical-align: middle;\n",
       "    }\n",
       "\n",
       "    .dataframe tbody tr th {\n",
       "        vertical-align: top;\n",
       "    }\n",
       "\n",
       "    .dataframe thead th {\n",
       "        text-align: right;\n",
       "    }\n",
       "</style>\n",
       "<table border=\"1\" class=\"dataframe\">\n",
       "  <thead>\n",
       "    <tr style=\"text-align: right;\">\n",
       "      <th></th>\n",
       "      <th>ox_code</th>\n",
       "      <th>population</th>\n",
       "      <th>real_kt</th>\n",
       "      <th>estimated_kt</th>\n",
       "    </tr>\n",
       "  </thead>\n",
       "  <tbody>\n",
       "    <tr>\n",
       "      <th>68</th>\n",
       "      <td>AB0087-C</td>\n",
       "      <td>BFcol</td>\n",
       "      <td>NaN</td>\n",
       "      <td>2</td>\n",
       "    </tr>\n",
       "    <tr>\n",
       "      <th>69</th>\n",
       "      <td>AB0088-C</td>\n",
       "      <td>BFcol</td>\n",
       "      <td>NaN</td>\n",
       "      <td>2</td>\n",
       "    </tr>\n",
       "    <tr>\n",
       "      <th>70</th>\n",
       "      <td>AB0089-C</td>\n",
       "      <td>BFcol</td>\n",
       "      <td>NaN</td>\n",
       "      <td>2</td>\n",
       "    </tr>\n",
       "    <tr>\n",
       "      <th>71</th>\n",
       "      <td>AB0090-C</td>\n",
       "      <td>BFcol</td>\n",
       "      <td>NaN</td>\n",
       "      <td>2</td>\n",
       "    </tr>\n",
       "    <tr>\n",
       "      <th>72</th>\n",
       "      <td>AB0091-C</td>\n",
       "      <td>BFcol</td>\n",
       "      <td>NaN</td>\n",
       "      <td>2</td>\n",
       "    </tr>\n",
       "  </tbody>\n",
       "</table>\n",
       "</div>"
      ],
      "text/plain": [
       "     ox_code population  real_kt  estimated_kt\n",
       "68  AB0087-C      BFcol      NaN             2\n",
       "69  AB0088-C      BFcol      NaN             2\n",
       "70  AB0089-C      BFcol      NaN             2\n",
       "71  AB0090-C      BFcol      NaN             2\n",
       "72  AB0091-C      BFcol      NaN             2"
      ]
     },
     "execution_count": 15,
     "metadata": {},
     "output_type": "execute_result"
    }
   ],
   "source": [
    "kary_fn = \"data/kt_2la.karyotype_with_outgroups.csv\"\n",
    "kary_df = pd.read_csv(kary_fn, sep='\\t')\n",
    "kary_df = kary_df.loc[kary_df['population'].isin(oc_popl)]\n",
    "print(\"karyotypes 2La phase2:\",kary_df.shape)\n",
    "kary_df.head()"
   ]
  },
  {
   "cell_type": "markdown",
   "metadata": {},
   "source": [
    "Similarly, we'll also load *Rdl* genotypes:\n",
    "\n",
    "* `0`: wt/wt\n",
    "* `1`: 296G/wt\n",
    "* `2`: 296G/296G\n",
    "* `10`: 296S/wt\n",
    "* `20`: 296S/296S"
   ]
  },
  {
   "cell_type": "code",
   "execution_count": 16,
   "metadata": {
    "scrolled": true
   },
   "outputs": [
    {
     "name": "stdout",
     "output_type": "stream",
     "text": [
      "rdl genotypes: (99, 10)\n"
     ]
    },
    {
     "data": {
      "text/html": [
       "<div>\n",
       "<style scoped>\n",
       "    .dataframe tbody tr th:only-of-type {\n",
       "        vertical-align: middle;\n",
       "    }\n",
       "\n",
       "    .dataframe tbody tr th {\n",
       "        vertical-align: top;\n",
       "    }\n",
       "\n",
       "    .dataframe thead th {\n",
       "        text-align: right;\n",
       "    }\n",
       "</style>\n",
       "<table border=\"1\" class=\"dataframe\">\n",
       "  <thead>\n",
       "    <tr style=\"text-align: right;\">\n",
       "      <th></th>\n",
       "      <th>ox_code</th>\n",
       "      <th>population</th>\n",
       "      <th>species</th>\n",
       "      <th>Ala296Ser</th>\n",
       "      <th>Ala296Gly</th>\n",
       "      <th>Thr345Ser</th>\n",
       "      <th>Thr345Met</th>\n",
       "      <th>Asn530Lys</th>\n",
       "      <th>His539Gln</th>\n",
       "      <th>gty296</th>\n",
       "    </tr>\n",
       "  </thead>\n",
       "  <tbody>\n",
       "    <tr>\n",
       "      <th>68</th>\n",
       "      <td>AB0087-C</td>\n",
       "      <td>BFcol</td>\n",
       "      <td>col</td>\n",
       "      <td>2</td>\n",
       "      <td>0</td>\n",
       "      <td>2</td>\n",
       "      <td>0</td>\n",
       "      <td>0</td>\n",
       "      <td>0.0</td>\n",
       "      <td>20</td>\n",
       "    </tr>\n",
       "    <tr>\n",
       "      <th>69</th>\n",
       "      <td>AB0088-C</td>\n",
       "      <td>BFcol</td>\n",
       "      <td>col</td>\n",
       "      <td>1</td>\n",
       "      <td>0</td>\n",
       "      <td>1</td>\n",
       "      <td>0</td>\n",
       "      <td>0</td>\n",
       "      <td>0.0</td>\n",
       "      <td>10</td>\n",
       "    </tr>\n",
       "    <tr>\n",
       "      <th>70</th>\n",
       "      <td>AB0089-C</td>\n",
       "      <td>BFcol</td>\n",
       "      <td>col</td>\n",
       "      <td>1</td>\n",
       "      <td>0</td>\n",
       "      <td>1</td>\n",
       "      <td>0</td>\n",
       "      <td>0</td>\n",
       "      <td>0.0</td>\n",
       "      <td>10</td>\n",
       "    </tr>\n",
       "    <tr>\n",
       "      <th>71</th>\n",
       "      <td>AB0090-C</td>\n",
       "      <td>BFcol</td>\n",
       "      <td>col</td>\n",
       "      <td>1</td>\n",
       "      <td>0</td>\n",
       "      <td>1</td>\n",
       "      <td>0</td>\n",
       "      <td>0</td>\n",
       "      <td>0.0</td>\n",
       "      <td>10</td>\n",
       "    </tr>\n",
       "    <tr>\n",
       "      <th>72</th>\n",
       "      <td>AB0091-C</td>\n",
       "      <td>BFcol</td>\n",
       "      <td>col</td>\n",
       "      <td>2</td>\n",
       "      <td>0</td>\n",
       "      <td>1</td>\n",
       "      <td>0</td>\n",
       "      <td>0</td>\n",
       "      <td>0.0</td>\n",
       "      <td>20</td>\n",
       "    </tr>\n",
       "  </tbody>\n",
       "</table>\n",
       "</div>"
      ],
      "text/plain": [
       "     ox_code population species  Ala296Ser  Ala296Gly  Thr345Ser  Thr345Met  \\\n",
       "68  AB0087-C      BFcol     col          2          0          2          0   \n",
       "69  AB0088-C      BFcol     col          1          0          1          0   \n",
       "70  AB0089-C      BFcol     col          1          0          1          0   \n",
       "71  AB0090-C      BFcol     col          1          0          1          0   \n",
       "72  AB0091-C      BFcol     col          2          0          1          0   \n",
       "\n",
       "    Asn530Lys  His539Gln  gty296  \n",
       "68          0        0.0      20  \n",
       "69          0        0.0      10  \n",
       "70          0        0.0      10  \n",
       "71          0        0.0      10  \n",
       "72          0        0.0      20  "
      ]
     },
     "execution_count": 16,
     "metadata": {},
     "output_type": "execute_result"
    }
   ],
   "source": [
    "rdlg_fn = \"data/genotypes_Rdl.csv\"\n",
    "rdlg_df = pd.read_csv(rdlg_fn, sep='\\t')\n",
    "rdlg_df = rdlg_df.loc[rdlg_df['population'].isin(oc_popl)]\n",
    "rdlg_df[\"gty296\"] = rdlg_df[\"Ala296Ser\"] * 10 + rdlg_df[\"Ala296Gly\"]\n",
    "print(\"rdl genotypes:\",rdlg_df.shape)\n",
    "rdlg_df.head()"
   ]
  },
  {
   "cell_type": "code",
   "execution_count": 17,
   "metadata": {},
   "outputs": [],
   "source": [
    "oc_popl_inv = [j+\"_\"+str(i) for j in oc_popl for i in [0,1,2]]\n",
    "oc_samples[\"inv\"]    = kary_df[\"estimated_kt\"].values"
   ]
  },
  {
   "cell_type": "code",
   "execution_count": 18,
   "metadata": {},
   "outputs": [
    {
     "name": "stdout",
     "output_type": "stream",
     "text": [
      "New dict sps, inv and gty...\n",
      "New allele counts...\n"
     ]
    },
    {
     "data": {
      "text/plain": [
       "(2699125,)"
      ]
     },
     "execution_count": 18,
     "metadata": {},
     "output_type": "execute_result"
    }
   ],
   "source": [
    "# indexed dictionary of species, inversions and genotypes\n",
    "print(\"New dict sps, inv and gty...\")\n",
    "oc_samples[\"sps_inv_gty\"] = oc_samples[\"species\"].astype(str) +\"_\"+ oc_samples[\"inv\"].astype(str)+\"_\"+rdlg_df[\"gty296\"].astype(str).values\n",
    "pop_inv_list = np.unique(oc_samples[\"sps_inv_gty\"].values).tolist()\n",
    "popdict_inv = dict()\n",
    "for popi in pop_inv_list: \n",
    "    popdict_inv[popi]  = oc_samples[oc_samples[\"sps_inv_gty\"] == popi].index.tolist()\n",
    "popdict_inv[\"all\"] = []\n",
    "for popi in pop_inv_list:\n",
    "    popdict_inv[\"all\"] = popdict_inv[\"all\"] + popdict_inv[popi]\n",
    "print(\"New allele counts...\")\n",
    "oc_genalco_sps_seg_inv_gty = oc_genotyp_seg.count_alleles_subpops(subpops=popdict_inv)\n",
    "oc_genalco_sps_seg_inv_gty.shape"
   ]
  },
  {
   "cell_type": "code",
   "execution_count": 19,
   "metadata": {},
   "outputs": [
    {
     "name": "stdout",
     "output_type": "stream",
     "text": [
      "New dict sps and inv...\n",
      "New allele counts sps...\n"
     ]
    },
    {
     "data": {
      "text/plain": [
       "(2699125,)"
      ]
     },
     "execution_count": 19,
     "metadata": {},
     "output_type": "execute_result"
    }
   ],
   "source": [
    "# indexed dictionary of species and inversions\n",
    "print(\"New dict sps and inv...\")\n",
    "oc_samples[\"sps_inv\"] = oc_samples[\"species\"].astype(str) +\"_\"+ oc_samples[\"inv\"].astype(str)\n",
    "sps_inv_list = np.unique(oc_samples[\"sps_inv\"].values).tolist()\n",
    "spsdict_inv = dict()\n",
    "for spsi in sps_inv_list: \n",
    "    spsdict_inv[spsi]  = oc_samples[oc_samples[\"sps_inv\"] == spsi].index.tolist()\n",
    "spsdict_inv[\"all\"] = []\n",
    "for spsi in sps_inv_list:\n",
    "    spsdict_inv[\"all\"] = spsdict_inv[\"all\"] + spsdict_inv[spsi]\n",
    "print(\"New allele counts sps...\")\n",
    "oc_genalco_sps_seg_inv = oc_genotyp_seg.count_alleles_subpops(subpops=spsdict_inv)\n",
    "oc_genalco_sps_seg_inv.shape"
   ]
  },
  {
   "cell_type": "markdown",
   "metadata": {},
   "source": [
    "* If there is introgression between 2La/2La *col* with 296S and 2La/2La *arab* *wt*, "
   ]
  },
  {
   "cell_type": "markdown",
   "metadata": {},
   "source": [
    "### 296S on 2La/2La background\n",
    "\n",
    "First, let's test if the 296S-2La allele spread from *col* to *gam* or viceversa. \n",
    "\n",
    "* If it spread **from col to ara**, we should see similarity between col-wt and ara-296S (and, obviously, between col-296S and ara-296S).\n",
    "* If it spread **from ara to col**, we should see similarity between ara-wt and col-296S (and, obviously, between col-296S and ara-296S).\n",
    "* If we only see similarity between col-296S and ara-296S, we can confirm it introgressed, but we can't ascertain the direction. This is the positive control."
   ]
  },
  {
   "cell_type": "code",
   "execution_count": 20,
   "metadata": {
    "scrolled": false
   },
   "outputs": [
    {
     "name": "stdout",
     "output_type": "stream",
     "text": [
      "(((col_2_20,col_2_0),X),chri_2) chr\n",
      "(((col_2_20,col_2_0),X),epir_2) chr\n"
     ]
    },
    {
     "data": {
      "image/png": "[encoded data removed]",
      "text/plain": [
       "<Figure size 720x144 with 2 Axes>"
      ]
     },
     "metadata": {},
     "output_type": "display_data"
    },
    {
     "data": {
      "image/png": "[encoded data removed]",
      "text/plain": [
       "<Figure size 720x144 with 2 Axes>"
      ]
     },
     "metadata": {},
     "output_type": "display_data"
    }
   ],
   "source": [
    "%%capture --no-stdout --no-display\n",
    "loop_D_statistic3(\n",
    "    name=\"2back_donor_ara\", \n",
    "    popA_list=[\"col_2_20\"], \n",
    "    popB_list=[\"col_2_0\"], \n",
    "    popC_list=[\"arab_2_20\",\"arab_2_0\",\"meru_2_0\"], \n",
    "    popD_list=[\"chri_2\",\"epir_2\"],\n",
    "    popA_ac=oc_genalco_sps_seg_inv_gty, \n",
    "    popB_ac=oc_genalco_sps_seg_inv_gty, \n",
    "    popC_ac=oc_genalco_sps_seg_inv_gty, \n",
    "    popD_ac=oc_genalco_sps_seg_inv,\n",
    "    pos=oc_genvars_seg[\"POS\"][:],\n",
    "    block_len_snp=10000,\n",
    "    step_len_snp=2000,\n",
    "    blen=100,\n",
    "    cycle=\"C\"\n",
    ")"
   ]
  },
  {
   "cell_type": "code",
   "execution_count": 21,
   "metadata": {
    "scrolled": false
   },
   "outputs": [
    {
     "name": "stdout",
     "output_type": "stream",
     "text": [
      "(((arab_2_20,arab_2_0),X),chri_2) chr\n",
      "(((arab_2_20,arab_2_0),X),epir_2) chr\n"
     ]
    },
    {
     "data": {
      "image/png": "[encoded data removed]",
      "text/plain": [
       "<Figure size 720x144 with 2 Axes>"
      ]
     },
     "metadata": {},
     "output_type": "display_data"
    },
    {
     "data": {
      "image/png": "[encoded data removed]",
      "text/plain": [
       "<Figure size 720x144 with 2 Axes>"
      ]
     },
     "metadata": {},
     "output_type": "display_data"
    }
   ],
   "source": [
    "%%capture --no-stdout --no-display\n",
    "loop_D_statistic3(\n",
    "    name=\"2back_donor_col\", \n",
    "    popA_list=[\"arab_2_20\"], \n",
    "    popB_list=[\"arab_2_0\"], \n",
    "    popC_list=[\"col_2_20\",\"col_2_0\",\"meru_2_0\"], \n",
    "    popD_list=[\"chri_2\",\"epir_2\"],\n",
    "    popA_ac=oc_genalco_sps_seg_inv_gty, \n",
    "    popB_ac=oc_genalco_sps_seg_inv_gty, \n",
    "    popC_ac=oc_genalco_sps_seg_inv_gty, \n",
    "    popD_ac=oc_genalco_sps_seg_inv,\n",
    "    pos=oc_genvars_seg[\"POS\"][:],\n",
    "    block_len_snp=10000,\n",
    "    step_len_snp=2000,\n",
    "    blen=100,\n",
    "    cycle=\"C\"\n",
    ")"
   ]
  }
 ],
 "metadata": {
  "kernelspec": {
   "display_name": "Python 3",
   "language": "python",
   "name": "python3"
  },
  "language_info": {
   "codemirror_mode": {
    "name": "ipython",
    "version": 3
   },
   "file_extension": ".py",
   "mimetype": "text/x-python",
   "name": "python",
   "nbconvert_exporter": "python",
   "pygments_lexer": "ipython3",
   "version": "3.7.4"
  }
 },
 "nbformat": 4,
 "nbformat_minor": 2
}
