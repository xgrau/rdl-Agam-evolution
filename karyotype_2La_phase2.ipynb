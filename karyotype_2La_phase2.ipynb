{
 "cells": [
  {
   "cell_type": "markdown",
   "metadata": {},
   "source": [
    "# Inversion karyotypes for *Phase2*\n",
    "\n",
    "Identify **2La inversion** status in Phase2 samples by comparing PCA of genotypes with that of karyotyped Phase1 data."
   ]
  },
  {
   "cell_type": "code",
   "execution_count": 1,
   "metadata": {},
   "outputs": [],
   "source": [
    "# output\n",
    "chrom    = \"2L\"\n",
    "outdir   = \"results_karyotype\"\n",
    "kary_fn  = \"data/samples_p1.karyotype.txt\"\n",
    "kary_inv = \"kt_2la\"\n",
    "outcode  = \"phase2_2La\"\n",
    "popc     = \"population\"\n",
    "\n",
    "# inversion 2La\n",
    "inv_start = 20524058 # interval 20524058 - 20528089\n",
    "inv_end   = 42165532 # interval 42165182 - 42165532\n",
    "\n",
    "# input data phase2\n",
    "p2_metasam_fn  = \"data/samples_p2.meta.txt\"\n",
    "p2_callset_fn  = \"/home/xavi/Documents/VariationAg1k/data/phase2.AR1/haplotypes/zarr2/ag1000g.phase2.ar1.samples/\"  #### EDIT THIS \n",
    "p2_accessi_fn  = \"/home/xavi/Documents/VariationAg1k/data/phase2.AR1/accessibility/accessibility.h5\"                #### EDIT THIS\n",
    "# define populations phase2\n",
    "p2_popl        = [\"AOcol\",\"BFcol\",\"BFgam\",\"CIcol\",\"CMgam\",\"FRgam\",\"GAgam\",\"GHcol\",\"GHgam\",\"GM\",\"GNcol\",\"GNgam\",\"GQgam\",\"GW\",\"KE\",\"UGgam\"]\n",
    "\n",
    "# input data phase1\n",
    "p1_metasam_fn  = \"data/samples_p1.meta.txt\"\n",
    "p1_callset_fn  = \"/home/xavi/dades/Variation/phase1.AR3/haplotypes/main/hdf5/ag1000g.phase1.ar3.haplotypes.%s.h5\"   #### EDIT THIS\n",
    "p1_accessi_fn  = \"/home/xavi/dades/Variation/phase1.AR3/accessibility/accessibility.h5\"                             #### EDIT THIS\n",
    "# define populations phase1\n",
    "p1_popl        = [\"AOM\",\"BFM\",\"BFS\",\"CMS\",\"GAS\",\"GNS\",\"GWA\",\"KES\",\"UGS\"]"
   ]
  },
  {
   "cell_type": "markdown",
   "metadata": {},
   "source": [
    "Libraries:"
   ]
  },
  {
   "cell_type": "code",
   "execution_count": 2,
   "metadata": {},
   "outputs": [],
   "source": [
    "%%capture\n",
    "import os\n",
    "import numpy as np\n",
    "import matplotlib as mpl\n",
    "import matplotlib.pyplot as plt\n",
    "import seaborn as sns\n",
    "from matplotlib.backends.backend_pdf import PdfPages\n",
    "import zarr\n",
    "import pandas as pd\n",
    "import allel\n",
    "import h5py"
   ]
  },
  {
   "cell_type": "markdown",
   "metadata": {},
   "source": [
    "Other settings:"
   ]
  },
  {
   "cell_type": "code",
   "execution_count": 3,
   "metadata": {},
   "outputs": [],
   "source": [
    "# load plot settings\n",
    "sns.set(context=\"notebook\",style=\"ticks\",\n",
    "        font_scale=1.3,rc={\"lines.linewidth\": 1},\n",
    "        font=\"Arial\",palette=\"bright\")\n",
    "\n",
    "def annotate_barplot(ax,color=\"k\", labformat = \"{:.2f}\"):\n",
    "    rects = ax.patches\n",
    "    for rect in rects:\n",
    "        x_value = rect.get_width()\n",
    "        y_value = rect.get_y() + rect.get_height() / 2\n",
    "        space   = 5\n",
    "        ha      = 'left'\n",
    "        label   = labformat.format(x_value) ## annotates bars with height labels, with 2 decimal points\n",
    "        plt.annotate(label, (x_value, y_value), xytext=(space, 0), textcoords=\"offset points\", va='center', ha=ha, color=color)\n"
   ]
  },
  {
   "cell_type": "markdown",
   "metadata": {},
   "source": [
    "## Load data\n",
    "\n",
    "### Samples\n",
    "\n",
    "Load data for all variants & genotypes. Population and sample structure:"
   ]
  },
  {
   "cell_type": "code",
   "execution_count": 4,
   "metadata": {},
   "outputs": [
    {
     "name": "stdout",
     "output_type": "stream",
     "text": [
      "Data:\n",
      "* Samples     =  1142\n",
      "* Populations =  {'CIcol', 'GW', 'CMgam', 'BFgam', 'KE', 'BFcol', 'GM', 'AOcol', 'GNgam', 'UGgam', 'GQgam', 'GHgam', 'GAgam', 'FRgam', 'GNcol', 'GHcol'}\n",
      "population\n",
      "AOcol     78\n",
      "BFcol     75\n",
      "BFgam     92\n",
      "CIcol     71\n",
      "CMgam    297\n",
      "FRgam     24\n",
      "GAgam     69\n",
      "GHcol     55\n",
      "GHgam     12\n",
      "GM        65\n",
      "GNcol      4\n",
      "GNgam     40\n",
      "GQgam      9\n",
      "GW        91\n",
      "KE        48\n",
      "UGgam    112\n",
      "dtype: int64\n"
     ]
    }
   ],
   "source": [
    "# load samples list with sample code, groupings, locations etc.\n",
    "p2_samples_df   = pd.read_csv(p2_metasam_fn, sep='\\t')\n",
    "p2_samples_bool = (p2_samples_df[popc].isin(p2_popl).values)\n",
    "p2_samples_sub  = p2_samples_df[p2_samples_bool]\n",
    "p2_samples_sub.reset_index(drop=True, inplace=True)\n",
    "\n",
    "# indexed dictionary of populations\n",
    "p2_popdict = dict()\n",
    "for popi in p2_popl: \n",
    "    p2_popdict[popi]  = p2_samples_sub[p2_samples_sub[popc] == popi].index.tolist()\n",
    "\n",
    "# add an extra population composed of all other locations\n",
    "p2_popdict[\"all\"] = []\n",
    "for popi in p2_popl:\n",
    "    p2_popdict[\"all\"] = p2_popdict[\"all\"] + p2_popdict[popi]\n",
    "\n",
    "\n",
    "# report\n",
    "print(\"Data:\")\n",
    "print(\"* Samples     = \", p2_samples_sub.shape[0])\n",
    "print(\"* Populations = \", set(p2_samples_sub[popc]))\n",
    "print(p2_samples_sub.groupby((\"population\")).size())"
   ]
  },
  {
   "cell_type": "code",
   "execution_count": 5,
   "metadata": {},
   "outputs": [
    {
     "name": "stdout",
     "output_type": "stream",
     "text": [
      "Data:\n",
      "* Samples     =  765\n",
      "* Populations =  {'BFS', 'GAS', 'UGS', 'GNS', 'GWA', 'KES', 'AOM', 'CMS', 'BFM'}\n",
      "population\n",
      "AOM     60\n",
      "BFM     69\n",
      "BFS     81\n",
      "CMS    275\n",
      "GAS     56\n",
      "GNS     31\n",
      "GWA     46\n",
      "KES     44\n",
      "UGS    103\n",
      "dtype: int64\n"
     ]
    }
   ],
   "source": [
    "# load samples list with sample code, groupings, locations etc.\n",
    "p1_samples_df   = pd.read_csv(p1_metasam_fn, sep='\\t')\n",
    "p1_samples_bool = (p1_samples_df[popc].isin(p1_popl).values)\n",
    "p1_samples_sub  = p1_samples_df[p1_samples_bool]\n",
    "p1_samples_sub.reset_index(drop=True, inplace=True)\n",
    "\n",
    "# indexed dictionary of populations\n",
    "p1_popdict = dict()\n",
    "for popi in p1_popl: \n",
    "    p1_popdict[popi]  = p1_samples_sub[p1_samples_sub[popc] == popi].index.tolist()\n",
    "\n",
    "# add an extra population composed of all other locations\n",
    "p1_popdict[\"all\"] = []\n",
    "for popi in p1_popl:\n",
    "    p1_popdict[\"all\"] = p1_popdict[\"all\"] + p1_popdict[popi]\n",
    "\n",
    "# report\n",
    "print(\"Data:\")\n",
    "print(\"* Samples     = \", p1_samples_sub.shape[0])\n",
    "print(\"* Populations = \", set(p1_samples_sub[popc]))\n",
    "print(p1_samples_sub.groupby((\"population\")).size())"
   ]
  },
  {
   "cell_type": "markdown",
   "metadata": {},
   "source": [
    "### Variants and genotypes"
   ]
  },
  {
   "cell_type": "code",
   "execution_count": 6,
   "metadata": {
    "scrolled": false
   },
   "outputs": [
    {
     "name": "stdout",
     "output_type": "stream",
     "text": [
      "Variants...\n",
      "Genotypes...\n",
      "Allele counts...\n",
      "(3710136,)\n"
     ]
    }
   ],
   "source": [
    "# declare objects with variant data\n",
    "p2_callset   = zarr.open(p2_callset_fn)\n",
    "    \n",
    "# variants of genotypes\n",
    "print(\"Variants...\")\n",
    "p2_callset_var = p2_callset[chrom][\"variants\"]\n",
    "p2_genvars = allel.VariantChunkedTable(p2_callset_var,names=[\"POS\",\"REF\",\"ALT\"],index=\"POS\") # variants\n",
    "pos_bool   = np.logical_and(p2_genvars[\"POS\"][:] >= inv_start, p2_genvars[\"POS\"][:] <= inv_end)\n",
    "p2_genvars = p2_genvars.compress(pos_bool)\n",
    "\n",
    "# genotype data\n",
    "print(\"Genotypes...\")\n",
    "p2_callset_gen = p2_callset[chrom][\"calldata\"][\"genotype\"]\n",
    "p2_genotyp     = allel.GenotypeChunkedArray(p2_callset_gen) # genotypes\n",
    "p2_genotyp_sub = p2_genotyp.subset(sel0=pos_bool, sel1=p2_samples_bool)\n",
    "# allele counts\n",
    "print(\"Allele counts...\")\n",
    "p2_genalco_sep = p2_genotyp_sub.count_alleles_subpops(subpops=p2_popdict)\n",
    "\n",
    "# report\n",
    "print(p2_genalco_sep.shape)"
   ]
  },
  {
   "cell_type": "code",
   "execution_count": 7,
   "metadata": {},
   "outputs": [
    {
     "name": "stdout",
     "output_type": "stream",
     "text": [
      "Variants...\n",
      "Genotypes...\n",
      "Allele counts...\n",
      "(3474151,)\n"
     ]
    }
   ],
   "source": [
    "# declare objects with variant data\n",
    "p1_callset   = h5py.File(p1_callset_fn % chrom,mode=\"r\")\n",
    "    \n",
    "# variants of genotypes\n",
    "print(\"Variants...\")\n",
    "p1_callset_var = p1_callset[chrom][\"variants\"]\n",
    "p1_genvars = allel.VariantChunkedTable(p1_callset_var,names=[\"POS\",\"REF\",\"ALT\"],index=\"POS\") # variants\n",
    "pos_bool   = np.logical_and(p1_genvars[\"POS\"][:] >= inv_start, p1_genvars[\"POS\"][:] <= inv_end)\n",
    "p1_genvars = p1_genvars.compress(pos_bool)\n",
    "\n",
    "# genotype data\n",
    "print(\"Genotypes...\")\n",
    "p1_callset_gen = p1_callset[chrom][\"calldata\"][\"genotype\"]\n",
    "p1_genotyp     = allel.GenotypeChunkedArray(p1_callset_gen) # genotypes\n",
    "p1_genotyp_sub = p1_genotyp.subset(sel0=pos_bool, sel1=p1_samples_bool)\n",
    "# allele counts\n",
    "print(\"Allele counts...\")\n",
    "p1_genalco_sep = p1_genotyp_sub.count_alleles_subpops(subpops=p1_popdict)\n",
    "\n",
    "# report\n",
    "print(p1_genalco_sep.shape)"
   ]
  },
  {
   "cell_type": "markdown",
   "metadata": {},
   "source": [
    "### Filters\n",
    "\n",
    "Filter phase2, phase1 and arabiensis:"
   ]
  },
  {
   "cell_type": "code",
   "execution_count": 8,
   "metadata": {},
   "outputs": [
    {
     "name": "stdout",
     "output_type": "stream",
     "text": [
      "Filters p2...\n",
      "(2006430, 1142, 2) / (3710136, 1142, 2)\n"
     ]
    }
   ],
   "source": [
    "# subset data: segregating alleles, biallelic and no singletons\n",
    "print(\"Filters p2...\")\n",
    "p2_is_seg      = p2_genalco_sep[\"all\"].is_segregating()[:] # segregating\n",
    "p2_is_nosing   = p2_genalco_sep[\"all\"][:,:2].min(axis=1)>2 # no singletons\n",
    "\n",
    "# subset phase2 to seg, nosing, biallelic & outgroup size\n",
    "p2_genotyp_seg = p2_genotyp_sub.compress((p2_is_seg[:] & p2_is_nosing[:]))\n",
    "p2_genvars_seg = p2_genvars.compress((p2_is_seg[:] & p2_is_nosing[:]))\n",
    "p2_genalco_seg = p2_genalco_sep.compress((p2_is_seg[:] & p2_is_nosing[:]))\n",
    "\n",
    "# report\n",
    "print(p2_genotyp_seg.shape,\"/\", p2_genotyp_sub.shape)"
   ]
  },
  {
   "cell_type": "code",
   "execution_count": 9,
   "metadata": {},
   "outputs": [
    {
     "name": "stdout",
     "output_type": "stream",
     "text": [
      "Filters p1...\n",
      "(1736143, 765, 2) / (3474151, 765, 2)\n"
     ]
    }
   ],
   "source": [
    "# subset data: segregating alleles, biallelic and no singletons\n",
    "print(\"Filters p1...\")\n",
    "p1_is_seg      = p1_genalco_sep[\"all\"].is_segregating()[:] # segregating\n",
    "p1_is_nosing   = p1_genalco_sep[\"all\"][:,:2].min(axis=1)>2 # no singletons\n",
    "\n",
    "# subset phase2 to seg, nosing, biallelic & outgroup size\n",
    "p1_genotyp_seg = p1_genotyp_sub.compress((p1_is_seg[:] & p1_is_nosing[:]))\n",
    "p1_genvars_seg = p1_genvars.compress((p1_is_seg[:] & p1_is_nosing[:]))\n",
    "p1_genalco_seg = p1_genalco_sep.compress((p1_is_seg[:] & p1_is_nosing[:]))\n",
    "\n",
    "# report\n",
    "print(p1_genotyp_seg.shape,\"/\", p1_genotyp_sub.shape)"
   ]
  },
  {
   "cell_type": "markdown",
   "metadata": {},
   "source": [
    "Subset p1 and p2:"
   ]
  },
  {
   "cell_type": "code",
   "execution_count": 10,
   "metadata": {},
   "outputs": [
    {
     "name": "stdout",
     "output_type": "stream",
     "text": [
      "Subset phase2...\n",
      "Subset phase1...\n",
      "(1594426,) (1594426,)\n"
     ]
    }
   ],
   "source": [
    "# is p2 in p1?\n",
    "is_p2_in_p1 = np.isin(p2_genvars_seg[\"POS\"][:],test_elements=p1_genvars_seg[\"POS\"][:])\n",
    "# subset phase2 to fit phase1\n",
    "print(\"Subset phase2...\")\n",
    "p2_genotyp_seg = p2_genotyp_seg.compress((is_p2_in_p1))\n",
    "p2_genvars_seg = p2_genvars_seg.compress((is_p2_in_p1))\n",
    "p2_genalco_seg = p2_genalco_seg.compress((is_p2_in_p1))\n",
    "\n",
    "# is p1 in p2?\n",
    "is_p1_in_p2 = np.isin(p1_genvars_seg[\"POS\"][:],test_elements=p2_genvars_seg[\"POS\"][:])\n",
    "# subset phase1 to fit phase2\n",
    "print(\"Subset phase1...\")\n",
    "p1_genotyp_seg = p1_genotyp_seg.compress((is_p1_in_p2))\n",
    "p1_genvars_seg = p1_genvars_seg.compress((is_p1_in_p2))\n",
    "p1_genalco_seg = p1_genalco_seg.compress((is_p1_in_p2))\n",
    "\n",
    "# report\n",
    "print(p2_genalco_seg.shape,p1_genalco_seg.shape)"
   ]
  },
  {
   "cell_type": "markdown",
   "metadata": {},
   "source": [
    "## Karyotype table\n",
    "\n",
    "Available for Phase1 data alone:"
   ]
  },
  {
   "cell_type": "code",
   "execution_count": 11,
   "metadata": {},
   "outputs": [
    {
     "data": {
      "text/plain": [
       "(765,)"
      ]
     },
     "execution_count": 11,
     "metadata": {},
     "output_type": "execute_result"
    }
   ],
   "source": [
    "kary_df = pd.read_csv(kary_fn, sep='\\t')\n",
    "kary_df_sub  = kary_df[p1_samples_bool]\n",
    "kary_df_sub.reset_index(drop=True, inplace=True)\n",
    "kary_df_sub[kary_inv].shape"
   ]
  },
  {
   "cell_type": "markdown",
   "metadata": {},
   "source": [
    "## PCA\n",
    "\n",
    "Create joint genotype counts phase1+2:"
   ]
  },
  {
   "cell_type": "code",
   "execution_count": 12,
   "metadata": {},
   "outputs": [],
   "source": [
    "is_p2_in_p1 = np.isin(p2_samples_df[\"ox_code\"].values, p1_samples_df[\"ox_code\"].values) # exclude samples from p2 that are also in p1\n",
    "is_p2_no_p1 = np.invert(is_p2_in_p1)"
   ]
  },
  {
   "cell_type": "code",
   "execution_count": 13,
   "metadata": {},
   "outputs": [
    {
     "name": "stdout",
     "output_type": "stream",
     "text": [
      "(1594426, 1142)\n"
     ]
    }
   ],
   "source": [
    "genotyp_n = np.hstack(\n",
    "    (p2_genotyp_seg.subset(sel1=is_p2_no_p1).to_n_alt()[:],\n",
    "     p1_genotyp_seg.to_n_alt()[:]))\n",
    "print(genotyp_n.shape)"
   ]
  },
  {
   "cell_type": "code",
   "execution_count": 16,
   "metadata": {},
   "outputs": [],
   "source": [
    "# mock inversion genotypes for phase2 and arabiensis\n",
    "p2_samples_sub[\"inv\"] = \"unk\""
   ]
  },
  {
   "cell_type": "code",
   "execution_count": 17,
   "metadata": {},
   "outputs": [],
   "source": [
    "random_ix = np.random.randint(genotyp_n.shape[1], size=10000)\n",
    "pca_coo, pca_mod = allel.randomized_pca(genotyp_n[random_ix],scaler=\"patterson\")"
   ]
  },
  {
   "cell_type": "markdown",
   "metadata": {},
   "source": [
    "Dataframe with PCs:"
   ]
  },
  {
   "cell_type": "code",
   "execution_count": 18,
   "metadata": {},
   "outputs": [
    {
     "data": {
      "text/plain": [
       "(377,)"
      ]
     },
     "execution_count": 18,
     "metadata": {},
     "output_type": "execute_result"
    }
   ],
   "source": [
    "p2_samples_sub[is_p2_no_p1][\"inv\"].values.shape"
   ]
  },
  {
   "cell_type": "code",
   "execution_count": 19,
   "metadata": {},
   "outputs": [
    {
     "data": {
      "text/plain": [
       "(765,)"
      ]
     },
     "execution_count": 19,
     "metadata": {},
     "output_type": "execute_result"
    }
   ],
   "source": [
    "kary_df_sub[kary_inv].values.shape"
   ]
  },
  {
   "cell_type": "code",
   "execution_count": 20,
   "metadata": {},
   "outputs": [],
   "source": [
    "pca_df = pd.DataFrame(data={\n",
    "    \"inv\" : np.concatenate((p2_samples_sub[is_p2_no_p1][\"inv\"].values,kary_df_sub[kary_inv].values)),\n",
    "    1 : pca_coo[:,1-1] , \n",
    "    2 : pca_coo[:,2-1] ,\n",
    "    3 : pca_coo[:,3-1] ,\n",
    "    4 : pca_coo[:,4-1] ,\n",
    "    5 : pca_coo[:,5-1] ,\n",
    "    6 : pca_coo[:,6-1] ,\n",
    "    7 : pca_coo[:,7-1] ,\n",
    "    8 : pca_coo[:,8-1] ,\n",
    "    9 : pca_coo[:,9-1] ,\n",
    "    10: pca_coo[:,10-1] ,\n",
    "})"
   ]
  },
  {
   "cell_type": "markdown",
   "metadata": {},
   "source": [
    "Variance explained per PC:"
   ]
  },
  {
   "cell_type": "code",
   "execution_count": 21,
   "metadata": {},
   "outputs": [
    {
     "data": {
      "image/png": "[encoded data removed]",
      "text/plain": [
       "<Figure size 432x432 with 1 Axes>"
      ]
     },
     "metadata": {},
     "output_type": "display_data"
    }
   ],
   "source": [
    "pdf_pages = PdfPages(\"%s/%s.%s.pdf\" % (outdir,outcode,\"explained_variance\"))\n",
    "fig = plt.figure(figsize=(6,6))\n",
    "ax = plt.subplot(1,1,1)\n",
    "\n",
    "labels = [\"PC1\",\"PC2\",\"PC3\",\"PC4\",\"PC5\",\"PC6\",\"PC7\",\"PC8\",\"PC9\",\"PC10\"]\n",
    "plt.barh(y=labels[::-1],width=pca_mod.explained_variance_ratio_[::-1]*100)\n",
    "annotate_barplot(ax=ax, labformat=\"{:.3f}\")\n",
    "ax.set_xlabel(\"% variance explained\")\n",
    "\n",
    "pdf_pages.savefig(fig,bbox_inches='tight')\n",
    "pdf_pages.close()"
   ]
  },
  {
   "cell_type": "markdown",
   "metadata": {},
   "source": [
    "Plot PCs:"
   ]
  },
  {
   "cell_type": "code",
   "execution_count": 22,
   "metadata": {},
   "outputs": [
    {
     "data": {
      "image/png": "[encoded data removed]",
      "text/plain": [
       "<Figure size 432x432 with 1 Axes>"
      ]
     },
     "metadata": {},
     "output_type": "display_data"
    },
    {
     "data": {
      "image/png": "[encoded data removed]",
      "text/plain": [
       "<Figure size 432x432 with 1 Axes>"
      ]
     },
     "metadata": {},
     "output_type": "display_data"
    }
   ],
   "source": [
    "pdf_pages = PdfPages(\"%s/%s.%s.pdf\" % (outdir,outcode,\"PCA\"))\n",
    "\n",
    "for pci in [1]:\n",
    "    for pcj in [1,2,3]:\n",
    "        if pci < pcj:\n",
    "            \n",
    "            fig = plt.figure(figsize=(6,6))\n",
    "            \n",
    "            for pca_df_ix, pca_df_rw in pca_df.iterrows():\n",
    "                if pca_df_rw[\"inv\"] == \"unk\" : plt.plot(pca_df_rw[pci], pca_df_rw[pcj], \"o\", color='slategray', mfc='none')\n",
    "                if pca_df_rw[\"inv\"] == 0     : plt.plot(pca_df_rw[pci], pca_df_rw[pcj], \"o\", color='lightskyblue', mfc='none')\n",
    "                if pca_df_rw[\"inv\"] == 1     : plt.plot(pca_df_rw[pci], pca_df_rw[pcj], \"o\", color='blue', mfc='none')\n",
    "                if pca_df_rw[\"inv\"] == 2     : plt.plot(pca_df_rw[pci], pca_df_rw[pcj], \"o\", color='purple', mfc='none')\n",
    "\n",
    "            plt.title(\"PCA chr %s\" % chrom)\n",
    "            plt.xlabel('PC%i (%.2f%%)' % (pci,pca_mod.explained_variance_ratio_[pci-1]*100))\n",
    "            plt.ylabel('PC%i (%.2f%%)' % (pcj,pca_mod.explained_variance_ratio_[pcj-1]*100))\n",
    "\n",
    "            pdf_pages.savefig(fig,bbox_inches='tight')\n",
    "    \n",
    "pdf_pages.close()"
   ]
  },
  {
   "cell_type": "markdown",
   "metadata": {},
   "source": [
    "## Supervised learning\n",
    "\n",
    "SVC (C-Support Vector Classification), a type of SVM (support vector machine). See https://scikit-learn.org/stable/modules/svm.html#"
   ]
  },
  {
   "cell_type": "code",
   "execution_count": 23,
   "metadata": {},
   "outputs": [],
   "source": [
    "import sklearn\n",
    "from sklearn import tree\n",
    "from sklearn import model_selection\n",
    "from sklearn import svm\n",
    "from sklearn.metrics import classification_report, confusion_matrix\n",
    "import graphviz"
   ]
  },
  {
   "cell_type": "markdown",
   "metadata": {},
   "source": [
    "Create test and train data with individuals from phase 1 (i.e. those for which inversion is not `NA`):"
   ]
  },
  {
   "cell_type": "code",
   "execution_count": 24,
   "metadata": {},
   "outputs": [
    {
     "name": "stdout",
     "output_type": "stream",
     "text": [
      "phase1 train dataset (765, 10)\n",
      "phase2 dataset to predict (377, 10)\n"
     ]
    }
   ],
   "source": [
    "# variables from phase 1 + classification, to train classifiers\n",
    "phase1_vars = pca_df[[1,2,3,4,5,6,7,8,9,10]][np.logical_and(pca_df[\"inv\"] != \"unk\", pca_df[\"inv\"] != \"ara\")]\n",
    "phase1_clas = pca_df[\"inv\"][np.logical_and(pca_df[\"inv\"] != \"unk\", pca_df[\"inv\"] != \"ara\")].astype(str)\n",
    "\n",
    "# variables from phase 2 that will need to be predicted\n",
    "phase2_vars = pca_df[[1,2,3,4,5,6,7,8,9,10]][pca_df[\"inv\"] == \"unk\"]\n",
    "\n",
    "\n",
    "print(\"phase1 train dataset\",phase1_vars.shape)\n",
    "print(\"phase2 dataset to predict\",phase2_vars.shape)"
   ]
  },
  {
   "cell_type": "markdown",
   "metadata": {},
   "source": [
    "### Train SVC\n",
    "\n",
    "Support vector classifier (SVC):\n"
   ]
  },
  {
   "cell_type": "code",
   "execution_count": 25,
   "metadata": {},
   "outputs": [],
   "source": [
    "# create classifier\n",
    "clf_svc = sklearn.svm.SVC(kernel='linear', C=1).fit(phase1_vars, phase1_clas)"
   ]
  },
  {
   "cell_type": "markdown",
   "metadata": {},
   "source": [
    "### Measure accuracy\n",
    "\n",
    "Accuracy from Phase1 data:"
   ]
  },
  {
   "cell_type": "code",
   "execution_count": 26,
   "metadata": {},
   "outputs": [
    {
     "name": "stdout",
     "output_type": "stream",
     "text": [
      "Accuracy = 1.0000\n"
     ]
    }
   ],
   "source": [
    "# accuracy from test data\n",
    "clf_svc_score = clf_svc.score(phase1_vars, phase1_clas)\n",
    "print(\"Accuracy = %0.4f\" % clf_svc_score)"
   ]
  },
  {
   "cell_type": "markdown",
   "metadata": {},
   "source": [
    "Precision and recall from Phase1 data:"
   ]
  },
  {
   "cell_type": "code",
   "execution_count": 27,
   "metadata": {},
   "outputs": [
    {
     "name": "stdout",
     "output_type": "stream",
     "text": [
      "              precision    recall  f1-score   support\n",
      "\n",
      "           0       1.00      1.00      1.00       324\n",
      "           1       1.00      1.00      1.00       195\n",
      "           2       1.00      1.00      1.00       246\n",
      "\n",
      "    accuracy                           1.00       765\n",
      "   macro avg       1.00      1.00      1.00       765\n",
      "weighted avg       1.00      1.00      1.00       765\n",
      "\n"
     ]
    }
   ],
   "source": [
    "print(classification_report(phase1_clas, clf_svc.predict(phase1_vars)))"
   ]
  },
  {
   "cell_type": "markdown",
   "metadata": {},
   "source": [
    "Confusion matrix with phase1 data:"
   ]
  },
  {
   "cell_type": "code",
   "execution_count": 28,
   "metadata": {},
   "outputs": [
    {
     "name": "stdout",
     "output_type": "stream",
     "text": [
      "[[324   0   0]\n",
      " [  0 195   0]\n",
      " [  0   0 246]]\n"
     ]
    }
   ],
   "source": [
    "print(confusion_matrix(phase1_clas, clf_svc.predict(phase1_vars)))"
   ]
  },
  {
   "cell_type": "markdown",
   "metadata": {},
   "source": [
    "### Predict Phase 2 karyotypes\n",
    "\n",
    "Using SVC:"
   ]
  },
  {
   "cell_type": "code",
   "execution_count": 29,
   "metadata": {},
   "outputs": [],
   "source": [
    "phase1_kt_estimated = clf_svc.predict(phase1_vars)\n",
    "phase2_kt_estimated = clf_svc.predict(phase2_vars)"
   ]
  },
  {
   "cell_type": "markdown",
   "metadata": {},
   "source": [
    "Save results:"
   ]
  },
  {
   "cell_type": "code",
   "execution_count": 30,
   "metadata": {},
   "outputs": [
    {
     "data": {
      "text/plain": [
       "(array(['0', '1', '2'], dtype=object), array([479, 334, 329]))"
      ]
     },
     "execution_count": 30,
     "metadata": {},
     "output_type": "execute_result"
    }
   ],
   "source": [
    "p2_samples_sub[\"inv_estimated\"]                  = -1\n",
    "p2_samples_sub.loc[is_p2_in_p1, \"inv_estimated\"] = phase1_kt_estimated\n",
    "p2_samples_sub.loc[is_p2_no_p1, \"inv_estimated\"] = phase2_kt_estimated\n",
    "np.unique(p2_samples_sub[\"inv_estimated\"], return_counts=True)"
   ]
  },
  {
   "cell_type": "code",
   "execution_count": 31,
   "metadata": {},
   "outputs": [],
   "source": [
    "out_df = pd.DataFrame(data={\n",
    "    \"ox_code\"      : np.concatenate((p2_samples_sub[\"ox_code\"].values,p1_samples_sub[\"ox_code\"].values)),\n",
    "    \"population\"   : np.concatenate((p2_samples_sub[\"population\"].values,p1_samples_sub[\"population\"].values)),\n",
    "    \"real_kt\"      : np.concatenate((p2_samples_sub[\"inv\"].values,kary_df_sub[kary_inv].values)),\n",
    "    \"estimated_kt\" : np.concatenate((p2_samples_sub[\"inv_estimated\"].values,phase1_kt_estimated)),\n",
    "})\n",
    "\n",
    "out_df[[\"ox_code\",\"population\",\"real_kt\",\"estimated_kt\"]].to_csv(\"%s/%s.karyotype.csv\" % (outdir,outcode), sep=\"\\t\",index=False)"
   ]
  }
 ],
 "metadata": {
  "kernelspec": {
   "display_name": "Python 3",
   "language": "python",
   "name": "python3"
  },
  "language_info": {
   "codemirror_mode": {
    "name": "ipython",
    "version": 3
   },
   "file_extension": ".py",
   "mimetype": "text/x-python",
   "name": "python",
   "nbconvert_exporter": "python",
   "pygments_lexer": "ipython3",
   "version": "3.7.4"
  }
 },
 "nbformat": 4,
 "nbformat_minor": 2
}
